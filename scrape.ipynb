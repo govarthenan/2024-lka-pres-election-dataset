{
 "cells": [
  {
   "cell_type": "markdown",
   "metadata": {
    "vscode": {
     "languageId": "plaintext"
    }
   },
   "source": [
    "# 2024 Sri Lankan Presidential Election Dataset\n",
    "\n",
    "- Data source: https://results.elections.gov.lk/index.php\n",
    "- Dataset schema:\n",
    "  - district: district name\n",
    "  - division: polling division name\n",
    "  - candidate: candidate name\n",
    "  - party: party abbreviation\n",
    "  - count: number of votes\n",
    "  - percentage: percentage of votes"
   ]
  },
  {
   "cell_type": "markdown",
   "metadata": {},
   "source": [
    "# Environment Setup\n"
   ]
  },
  {
   "cell_type": "code",
   "execution_count": 1,
   "metadata": {},
   "outputs": [],
   "source": [
    "import requests\n",
    "import polars as pl\n",
    "import bs4"
   ]
  },
  {
   "cell_type": "markdown",
   "metadata": {},
   "source": [
    "# Web Scraping"
   ]
  },
  {
   "cell_type": "markdown",
   "metadata": {},
   "source": [
    "## Get districts and divisions\n",
    "- A list of electoral districts and their respective divisions can be found on the sidebar of the results website"
   ]
  },
  {
   "cell_type": "markdown",
   "metadata": {},
   "source": [
    "### Get district names"
   ]
  },
  {
   "cell_type": "code",
   "execution_count": 2,
   "metadata": {},
   "outputs": [],
   "source": [
    "# parse html\n",
    "url = \"https://results.elections.gov.lk/index.php\"\n",
    "response = requests.get(url)\n",
    "soup = bs4.BeautifulSoup(response.text, \"html.parser\")"
   ]
  },
  {
   "cell_type": "code",
   "execution_count": 3,
   "metadata": {},
   "outputs": [],
   "source": [
    "# find the names\n",
    "districts = soup.select(\"#sidebar > ul > li > a > span\")\n",
    "districts = [i.text.strip() for i in districts]\n",
    "\n",
    "# remove the first item ('All Island')\n",
    "districts = districts[1:]"
   ]
  },
  {
   "cell_type": "code",
   "execution_count": 4,
   "metadata": {},
   "outputs": [
    {
     "name": "stdout",
     "output_type": "stream",
     "text": [
      "['Colombo', 'Gampaha', 'Kalutara', 'Mahanuwara', 'Matale', 'Nuwaraeliya', 'Galle', 'Matara', 'Hambantota', 'Jaffna', 'Vanni', 'Batticaloa', 'Digamadulla', 'Trincomalee', 'Kurunegala', 'Puttalam', 'Anuradhapura', 'Polonnaruwa', 'Badulla', 'Monaragala', 'Ratnapura', 'Kegalle']\n"
     ]
    }
   ],
   "source": [
    "print(districts)"
   ]
  },
  {
   "cell_type": "markdown",
   "metadata": {},
   "source": [
    "### Get divisions of each district"
   ]
  },
  {
   "cell_type": "code",
   "execution_count": 5,
   "metadata": {},
   "outputs": [],
   "source": [
    "district_to_divisions_map: dict[str, list[str]] = {}\n",
    "\n",
    "for i, d in enumerate(districts):\n",
    "    district_to_divisions_map[d] = []\n",
    "\n",
    "    # get division elements by district id\n",
    "    division_elements = soup.select(f\"#district{i+1:02d} > ul > li > a > p\")\n",
    "    for j in division_elements:\n",
    "        district_to_divisions_map[d].append(j.text.strip())"
   ]
  },
  {
   "cell_type": "code",
   "execution_count": 6,
   "metadata": {},
   "outputs": [
    {
     "name": "stdout",
     "output_type": "stream",
     "text": [
      "{'Colombo': ['Preference', 'Colombo District', 'Postal Votes', 'ColomboNorth', 'ColomboCentral', 'Borella', 'ColomboEast', 'ColomboWest', 'Dehiwala', 'Ratmalana', 'Kolonnawa', 'Kotte', 'Kaduwela', 'Avissawella', 'Homagama', 'Maharagama', 'Kesbewa', 'Moratuwa'], 'Gampaha': ['Preference', 'Gampaha District', 'Postal Votes', 'Wattala', 'Negambo', 'Katana', 'Divulapitiya', 'Mirigama', 'Minuwangoda', 'Attanagalla', 'Gampaha', 'Ja-Ela', 'Mahara', 'Dompe', 'Biyagama', 'Kelaniya'], 'Kalutara': ['Preference', 'Kalutara District', 'Postal Votes', 'Panadura', 'Bandaragama', 'Horana', 'Bulathsinhala', 'Matugama', 'Kalutara', 'Beruwala', 'Agalawatta'], 'Mahanuwara': ['Preference', 'Mahanuwara District', 'Postal Votes', 'Galagedara', 'Harispattuwa', 'Patadumbara', 'Udadumbara', 'Teldeniya', 'Kundasale', 'Hewahata', 'Senkadagala', 'Mahanuwara', 'Yatinuwara', 'Udunuwara', 'Gampola', 'Nawalapitiya'], 'Matale': ['Preference', 'Matale District', 'Postal Votes', 'Dambulla', 'Laggala', 'Matale', 'Rattota'], 'Nuwaraeliya': ['Preference', 'Nuwaraeliya District', 'Postal Votes', 'N.E.Maskeliya', 'Kothmale', 'Hanguranketha', 'Walapane'], 'Galle': ['Preference', 'Galle District', 'Postal Votes', 'Balapitiya', 'Ambalangoda', 'Karandeniya', 'BentaraElpitiya', 'Hiniduma', 'Baddegama', 'Ratgama', 'Galle', 'Akmeemana', 'Habaraduwa'], 'Matara': ['Preference', 'Matara District', 'Postal Votes', 'Deniyaya', 'Hakmana', 'Akuressa', 'Kamburupitiya', 'Devinuwara', 'Matara', 'Weligama'], 'Hambantota': ['Preference', 'Hambantota District', 'Postal Votes', 'Mulkirigala', 'Beliatta', 'Tangalle', 'Tissamaharama'], 'Jaffna': ['Preference', 'Jaffna District', 'Postal Votes', 'Kayts', 'Vadducoddai', 'Kankesanthurai', 'Manipay', 'Kopai', 'Uduppiddy', 'Point-Pedro', 'Chavakachcheri', 'Nallur', 'Jaffna', 'Kilinochchi'], 'Vanni': ['Preference', 'Vanni District', 'Postal Votes', 'Mannar', 'Vavuniya', 'Mulaithivu'], 'Batticaloa': ['Preference', 'Batticaloa District', 'Postal Votes', 'Kalkuda', 'Batticaloa', 'Paddiruppu'], 'Digamadulla': ['Preference', 'Digamadulla District', 'Postal Votes', 'Ampara', 'Sammanthurai', 'Kalmunai', 'Pothuvil'], 'Trincomalee': ['Preference', 'Trincomalee District', 'Postal Votes', 'Seruwila', 'Trincomalee', 'Muthur'], 'Kurunegala': ['Preference', 'Kurunegala District', 'Postal Votes', 'Galgamuwa', 'Nikaweratiya', 'Yapahuwa', 'Hiriyala', 'Wariyapola', 'Paduwasnuwara', 'Bingiriya', 'Katugampola', 'Kuliyapitiya', 'Dambadeniya', 'Polgahawela', 'Kurunegala', 'Mawathagama', 'Dodangaslanda'], 'Puttalam': ['Preference', 'Puttalam District', 'Postal Votes', 'Puttalam', 'Anamaduwa', 'Chillaw', 'Nattandiya', 'Wennappuwa'], 'Anuradhapura': ['Preference', 'Anuradhapura District', 'Postal Votes', 'Medawachchiya', 'Horowpathana', 'AnuradhapuraEast', 'AnuradhapuraWest', 'Kalawewa', 'Mihinthale', 'Kekirawa'], 'Polonnaruwa': ['Preference', 'Polonnaruwa District', 'Postal Votes', 'Minneriya', 'Medirigiriya', 'Polonnaruwa'], 'Badulla': ['Preference', 'Badulla District', 'Postal Votes', 'Mahiyangana', 'Wiyaluwa', 'Passara', 'Badulla', 'Haliela', 'Uvaparanagama', 'Welimada', 'Bandarawela', 'Haputhale'], 'Monaragala': ['Preference', 'Monaragala District', 'Postal Votes', 'Bibila', 'Moneragala', 'Wellawaya'], 'Ratnapura': ['Preference', 'Ratnapura District', 'Postal Votes', 'Eheliyagoda', 'Ratnapura', 'Pelmadulla', 'Balangoda', 'Rakwana', 'Nivithigala', 'Kalawana', 'Kolonna'], 'Kegalle': ['Preference', 'Kegalle District', 'Postal Votes', 'Dedigama', 'Galigamuwa', 'Kegalle', 'Rambukkana', 'Mawanella', 'Aranayake', 'Yatiyantota', 'Ruwanwella', 'Deraniyagala']}\n"
     ]
    }
   ],
   "source": [
    "print(district_to_divisions_map)"
   ]
  },
  {
   "cell_type": "markdown",
   "metadata": {},
   "source": [
    "### Cleaning"
   ]
  },
  {
   "cell_type": "code",
   "execution_count": 7,
   "metadata": {},
   "outputs": [],
   "source": [
    "# remove 'Preference' and the '* District' divisions\n",
    "# these have a different URL format and belong to their seperate datasets\n",
    "\n",
    "for district, divisions in district_to_divisions_map.items():\n",
    "    district_to_divisions_map[district] = [\n",
    "        div\n",
    "        for div in divisions\n",
    "        if div != \"Preference\" and not div.endswith(\" District\")\n",
    "    ]"
   ]
  },
  {
   "cell_type": "markdown",
   "metadata": {},
   "source": [
    "## Get divisional results"
   ]
  },
  {
   "cell_type": "markdown",
   "metadata": {},
   "source": [
    "**Regarding the choice of schema**\n",
    "- The dataframe will be a denormalized flat table\n",
    "- This was chosen over a normalized schema, containing multiple tables linked by foreign keys, because:\n",
    "  - the number of rows is rather small\n",
    "  - it is easier to query a flattened table\n",
    "  - the goal of this project is to construct a dataset that facilitates analysis\n",
    "- Postal votes are also included in the divisional results"
   ]
  },
  {
   "cell_type": "code",
   "execution_count": 8,
   "metadata": {},
   "outputs": [],
   "source": [
    "# append results to a flat list of tuples of each candidate's results\n",
    "results: list[tuple[str, str, str, str, int, float]] = []"
   ]
  },
  {
   "cell_type": "code",
   "execution_count": 9,
   "metadata": {},
   "outputs": [
    {
     "name": "stdout",
     "output_type": "stream",
     "text": [
      "District: Colombo\n",
      "Divisions: ****************\n",
      "\n",
      "District: Gampaha\n",
      "Divisions: **************\n",
      "\n",
      "District: Kalutara\n",
      "Divisions: *********\n",
      "\n",
      "District: Mahanuwara\n",
      "Divisions: **************\n",
      "\n",
      "District: Matale\n",
      "Divisions: *****\n",
      "\n",
      "District: Nuwaraeliya\n",
      "Divisions: *****\n",
      "\n",
      "District: Galle\n",
      "Divisions: ***********\n",
      "\n",
      "District: Matara\n",
      "Divisions: ********\n",
      "\n",
      "District: Hambantota\n",
      "Divisions: *****\n",
      "\n",
      "District: Jaffna\n",
      "Divisions: ************\n",
      "\n",
      "District: Vanni\n",
      "Divisions: ****\n",
      "\n",
      "District: Batticaloa\n",
      "Divisions: ****\n",
      "\n",
      "District: Digamadulla\n",
      "Divisions: *****\n",
      "\n",
      "District: Trincomalee\n",
      "Divisions: ****\n",
      "\n",
      "District: Kurunegala\n",
      "Divisions: ***************\n",
      "\n",
      "District: Puttalam\n",
      "Divisions: ******\n",
      "\n",
      "District: Anuradhapura\n",
      "Divisions: ********\n",
      "\n",
      "District: Polonnaruwa\n",
      "Divisions: ****\n",
      "\n",
      "District: Badulla\n",
      "Divisions: **********\n",
      "\n",
      "District: Monaragala\n",
      "Divisions: ****\n",
      "\n",
      "District: Ratnapura\n",
      "Divisions: *********\n",
      "\n",
      "District: Kegalle\n",
      "Divisions: **********\n",
      "\n"
     ]
    }
   ],
   "source": [
    "for district, divisions in district_to_divisions_map.items():  # for each district\n",
    "    # debug\n",
    "    print(f\"District: {district}\\nDivisions: \", end=\"\")\n",
    "    for division in divisions:  # get each division's page\n",
    "        url = \"https://results.elections.gov.lk/division_results.php\"\n",
    "        response = requests.get(\n",
    "            url, params={\"district\": district, \"pd_division\": division}\n",
    "        )\n",
    "        soup = bs4.BeautifulSoup(response.text, \"html.parser\")\n",
    "\n",
    "        # get bulk data of each field and then transform into a list of tuples\n",
    "\n",
    "        # get candidate names\n",
    "        candidates_css_selector = \"#overview > div > div.col-lg-8 > div > div > div > div > div.table-responsive.mt-1 > table:nth-child(1) > tbody > tr > td:nth-child(1) > div > div > h6\"\n",
    "        candidates = soup.select(candidates_css_selector)\n",
    "        candidates = [candidate.text.strip() for candidate in candidates]\n",
    "\n",
    "        # get party abbreviations\n",
    "        party_css_selector = \"#overview > div > div.col-lg-8 > div > div > div > div > div.table-responsive.mt-1 > table:nth-child(1) > tbody > tr > td:nth-child(2) > h6\"\n",
    "        parties = soup.select(party_css_selector)\n",
    "        parties = [party.text.strip() for party in parties]\n",
    "\n",
    "        # get vote counts\n",
    "        votes_count_css_selector = \"#overview > div > div.col-lg-8 > div > div > div > div > div.table-responsive.mt-1 > table:nth-child(1) > tbody > tr > td:nth-child(3) > p\"\n",
    "        votes_count = soup.select(votes_count_css_selector)\n",
    "        votes_count = [int(vote.text.strip().replace(\",\", \"\")) for vote in votes_count]\n",
    "\n",
    "        # get percentage of votes\n",
    "        votes_percentage_css_selector = \"#overview > div > div.col-lg-8 > div > div > div > div > div.table-responsive.mt-1 > table:nth-child(1) > tbody > tr > td:nth-child(4) > p\"\n",
    "        votes_percentage = soup.select(votes_percentage_css_selector)\n",
    "        votes_percentage = [float(p.text.strip().rstrip(\"%\")) for p in votes_percentage]\n",
    "\n",
    "        # combine the data into row-wise tuples\n",
    "        for candidate, party, votes_count, votes_percentage in zip(\n",
    "            candidates, parties, votes_count, votes_percentage\n",
    "        ):\n",
    "            results.append(\n",
    "                (district, division, candidate, party, votes_count, votes_percentage)\n",
    "            )\n",
    "\n",
    "        print(\"*\", end=\"\")\n",
    "    print(\"\\n\")"
   ]
  },
  {
   "cell_type": "markdown",
   "metadata": {},
   "source": [
    "# Convert to DataFrame\n"
   ]
  },
  {
   "cell_type": "code",
   "execution_count": 10,
   "metadata": {},
   "outputs": [
    {
     "name": "stdout",
     "output_type": "stream",
     "text": [
      "(6916, 6)\n"
     ]
    }
   ],
   "source": [
    "# save list of tuples to a polars dataframe\n",
    "df_divisional_results = pl.DataFrame(\n",
    "    results,\n",
    "    schema={\n",
    "        \"district\": str,\n",
    "        \"division\": str,\n",
    "        \"candidate\": str,\n",
    "        \"party\": str,\n",
    "        \"votes_count\": int,\n",
    "        \"votes_percentage\": float,\n",
    "    },\n",
    "    orient=\"row\",\n",
    ")\n",
    "\n",
    "print(df_divisional_results.shape)"
   ]
  },
  {
   "cell_type": "code",
   "execution_count": 11,
   "metadata": {},
   "outputs": [
    {
     "name": "stdout",
     "output_type": "stream",
     "text": [
      "shape: (9, 7)\n",
      "┌────────────┬──────────────┬─────────────┬───────────────────────┬───────┬─────────────┬──────────────────┐\n",
      "│ statistic  ┆ district     ┆ division    ┆ candidate             ┆ party ┆ votes_count ┆ votes_percentage │\n",
      "│ ---        ┆ ---          ┆ ---         ┆ ---                   ┆ ---   ┆ ---         ┆ ---              │\n",
      "│ str        ┆ str          ┆ str         ┆ str                   ┆ str   ┆ f64         ┆ f64              │\n",
      "╞════════════╪══════════════╪═════════════╪═══════════════════════╪═══════╪═════════════╪══════════════════╡\n",
      "│ count      ┆ 6916         ┆ 6916        ┆ 6916                  ┆ 6916  ┆ 6916.0      ┆ 6916.0           │\n",
      "│ null_count ┆ 0            ┆ 0           ┆ 0                     ┆ 0     ┆ 0.0         ┆ 0.0              │\n",
      "│ mean       ┆ null         ┆ null        ┆ null                  ┆ null  ┆ 1925.913245 ┆ 2.631599         │\n",
      "│ std        ┆ null         ┆ null        ┆ null                  ┆ null  ┆ 7588.897948 ┆ 9.22619          │\n",
      "│ min        ┆ Anuradhapura ┆ Agalawatta  ┆ A.S.P. LIYANAGE       ┆ AJP   ┆ 0.0         ┆ 0.0              │\n",
      "│ 25%        ┆ null         ┆ null        ┆ null                  ┆ null  ┆ 17.0        ┆ 0.03             │\n",
      "│ 50%        ┆ null         ┆ null        ┆ null                  ┆ null  ┆ 40.0        ┆ 0.06             │\n",
      "│ 75%        ┆ null         ┆ null        ┆ null                  ┆ null  ┆ 105.0       ┆ 0.15             │\n",
      "│ max        ┆ Vanni        ┆ Yatiyantota ┆ WIJEYADASA RAJAPAKSHE ┆ USP   ┆ 117232.0    ┆ 67.2             │\n",
      "└────────────┴──────────────┴─────────────┴───────────────────────┴───────┴─────────────┴──────────────────┘\n"
     ]
    }
   ],
   "source": [
    "# display summary\n",
    "print(df_divisional_results.describe())"
   ]
  },
  {
   "cell_type": "code",
   "execution_count": 12,
   "metadata": {},
   "outputs": [
    {
     "data": {
      "text/html": [
       "<div><style>\n",
       ".dataframe > thead > tr,\n",
       ".dataframe > tbody > tr {\n",
       "  text-align: right;\n",
       "  white-space: pre-wrap;\n",
       "}\n",
       "</style>\n",
       "<small>shape: (10, 6)</small><table border=\"1\" class=\"dataframe\"><thead><tr><th>district</th><th>division</th><th>candidate</th><th>party</th><th>votes_count</th><th>votes_percentage</th></tr><tr><td>str</td><td>str</td><td>str</td><td>str</td><td>i64</td><td>f64</td></tr></thead><tbody><tr><td>&quot;Matara&quot;</td><td>&quot;Devinuwara&quot;</td><td>&quot;LALITH DE SILVA&quot;</td><td>&quot;UNFF&quot;</td><td>11</td><td>0.02</td></tr><tr><td>&quot;Mahanuwara&quot;</td><td>&quot;Kundasale&quot;</td><td>&quot;K.K. PIYADASA&quot;</td><td>&quot;IND4&quot;</td><td>224</td><td>0.27</td></tr><tr><td>&quot;Kalutara&quot;</td><td>&quot;Horana&quot;</td><td>&quot;SAJITH PREMADASA&quot;</td><td>&quot;SJB&quot;</td><td>27090</td><td>24.29</td></tr><tr><td>&quot;Jaffna&quot;</td><td>&quot;Chavakachcheri&quot;</td><td>&quot;SARATH MANAMENDRA&quot;</td><td>&quot;NSU&quot;</td><td>16</td><td>0.05</td></tr><tr><td>&quot;Digamadulla&quot;</td><td>&quot;Pothuvil&quot;</td><td>&quot;SARATH MANAMENDRA&quot;</td><td>&quot;NSU&quot;</td><td>19</td><td>0.01</td></tr><tr><td>&quot;Polonnaruwa&quot;</td><td>&quot;Medirigiriya&quot;</td><td>&quot;A.S.P. LIYANAGE&quot;</td><td>&quot;SLLP&quot;</td><td>5</td><td>0.01</td></tr><tr><td>&quot;Galle&quot;</td><td>&quot;Balapitiya&quot;</td><td>&quot;SAJITH PREMADASA&quot;</td><td>&quot;SJB&quot;</td><td>12339</td><td>30.23</td></tr><tr><td>&quot;Kegalle&quot;</td><td>&quot;Rambukkana&quot;</td><td>&quot;K.K. PIYADASA&quot;</td><td>&quot;IND4&quot;</td><td>117</td><td>0.22</td></tr><tr><td>&quot;Colombo&quot;</td><td>&quot;Borella&quot;</td><td>&quot;DILITH JAYAWEERA&quot;</td><td>&quot;SLCP&quot;</td><td>659</td><td>1.45</td></tr><tr><td>&quot;Kegalle&quot;</td><td>&quot;Postal Votes&quot;</td><td>&quot;SARATH FONSEKA&quot;</td><td>&quot;IND12&quot;</td><td>27</td><td>0.08</td></tr></tbody></table></div>"
      ],
      "text/plain": [
       "shape: (10, 6)\n",
       "┌─────────────┬────────────────┬───────────────────┬───────┬─────────────┬──────────────────┐\n",
       "│ district    ┆ division       ┆ candidate         ┆ party ┆ votes_count ┆ votes_percentage │\n",
       "│ ---         ┆ ---            ┆ ---               ┆ ---   ┆ ---         ┆ ---              │\n",
       "│ str         ┆ str            ┆ str               ┆ str   ┆ i64         ┆ f64              │\n",
       "╞═════════════╪════════════════╪═══════════════════╪═══════╪═════════════╪══════════════════╡\n",
       "│ Matara      ┆ Devinuwara     ┆ LALITH DE SILVA   ┆ UNFF  ┆ 11          ┆ 0.02             │\n",
       "│ Mahanuwara  ┆ Kundasale      ┆ K.K. PIYADASA     ┆ IND4  ┆ 224         ┆ 0.27             │\n",
       "│ Kalutara    ┆ Horana         ┆ SAJITH PREMADASA  ┆ SJB   ┆ 27090       ┆ 24.29            │\n",
       "│ Jaffna      ┆ Chavakachcheri ┆ SARATH MANAMENDRA ┆ NSU   ┆ 16          ┆ 0.05             │\n",
       "│ Digamadulla ┆ Pothuvil       ┆ SARATH MANAMENDRA ┆ NSU   ┆ 19          ┆ 0.01             │\n",
       "│ Polonnaruwa ┆ Medirigiriya   ┆ A.S.P. LIYANAGE   ┆ SLLP  ┆ 5           ┆ 0.01             │\n",
       "│ Galle       ┆ Balapitiya     ┆ SAJITH PREMADASA  ┆ SJB   ┆ 12339       ┆ 30.23            │\n",
       "│ Kegalle     ┆ Rambukkana     ┆ K.K. PIYADASA     ┆ IND4  ┆ 117         ┆ 0.22             │\n",
       "│ Colombo     ┆ Borella        ┆ DILITH JAYAWEERA  ┆ SLCP  ┆ 659         ┆ 1.45             │\n",
       "│ Kegalle     ┆ Postal Votes   ┆ SARATH FONSEKA    ┆ IND12 ┆ 27          ┆ 0.08             │\n",
       "└─────────────┴────────────────┴───────────────────┴───────┴─────────────┴──────────────────┘"
      ]
     },
     "execution_count": 12,
     "metadata": {},
     "output_type": "execute_result"
    }
   ],
   "source": [
    "# sample the dataframe\n",
    "df_divisional_results.sample(10)"
   ]
  },
  {
   "cell_type": "code",
   "execution_count": 13,
   "metadata": {},
   "outputs": [],
   "source": [
    "# write to disk\n",
    "df_divisional_results.write_csv(\n",
    "    \"divisional_results.csv\",\n",
    "    include_header=True,\n",
    "    separator=\",\",\n",
    "    quote_style=\"non_numeric\",\n",
    "    quote_char='\"',\n",
    ")"
   ]
  }
 ],
 "metadata": {
  "kernelspec": {
   "display_name": "Python 3 (ipykernel)",
   "language": "python",
   "name": "python3"
  },
  "language_info": {
   "codemirror_mode": {
    "name": "ipython",
    "version": 3
   },
   "file_extension": ".py",
   "mimetype": "text/x-python",
   "name": "python",
   "nbconvert_exporter": "python",
   "pygments_lexer": "ipython3",
   "version": "3.12.4"
  }
 },
 "nbformat": 4,
 "nbformat_minor": 4
}
